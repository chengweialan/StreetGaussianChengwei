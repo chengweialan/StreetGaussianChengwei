{
 "cells": [
  {
   "cell_type": "code",
   "execution_count": 1,
   "metadata": {},
   "outputs": [
    {
     "name": "stdout",
     "output_type": "stream",
     "text": [
      "Jupyter environment detected. Enabling Open3D WebVisualizer.\n",
      "[Open3D INFO] WebRTC GUI backend enabled.\n",
      "[Open3D INFO] WebRTCWindowSystem: HTTP handshake server disabled.\n"
     ]
    }
   ],
   "source": [
    "import torch\n",
    "import os\n",
    "import open3d as o3d\n",
    "import numpy as np\n",
    "from plyfile import PlyData, PlyElement\n",
    "import sys\n",
    "sys.path.append('/home/chengwei/Desktop/summer_research/StreetGaussian')\n",
    "from utils.system_utils import mkdir_p\n",
    "\n",
    "def print_ply_properties(ply_file):\n",
    "    ply_data = PlyData.read(ply_file)\n",
    "    \n",
    "    print(ply_data)\n",
    "    for element in ply_data.elements:\n",
    "        print(f\"Element: {element.name}\")\n",
    "        \n",
    "        for property in element.properties:\n",
    "            print(f\"  Property: {property.name}\")"
   ]
  },
  {
   "cell_type": "code",
   "execution_count": null,
   "metadata": {},
   "outputs": [],
   "source": [
    "ply_path=\"/home/chengwei/Desktop/summer_research/StreetGaussian/ply/converted.ply\""
   ]
  }
 ],
 "metadata": {
  "kernelspec": {
   "display_name": "sugar",
   "language": "python",
   "name": "python3"
  },
  "language_info": {
   "codemirror_mode": {
    "name": "ipython",
    "version": 3
   },
   "file_extension": ".py",
   "mimetype": "text/x-python",
   "name": "python",
   "nbconvert_exporter": "python",
   "pygments_lexer": "ipython3",
   "version": "3.9.18"
  }
 },
 "nbformat": 4,
 "nbformat_minor": 2
}
